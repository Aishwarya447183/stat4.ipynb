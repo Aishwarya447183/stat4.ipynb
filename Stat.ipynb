{
 "cells": [
  {
   "cell_type": "code",
   "execution_count": null,
   "id": "61b354a4-1544-447d-94ec-b3ccbb610ed8",
   "metadata": {},
   "outputs": [],
   "source": [
    "##Q1.\n",
    "A Probability Density Function (PDF) is a mathematical function that describes the relative likelihood for a continuous random variable to take on a certain value. It is used to describe the distribution of the probability of the variable over the entire range of possible values.\n",
    "\n",
    "The PDF is a non-negative function, which integrates to 1 over the entire range of the variable. The area under the curve of the PDF represents the probability of the variable taking on a value within a certain range.\n",
    "\n",
    "In simpler terms, the PDF tells us how likely a continuous random variable is to take on a particular value, given the range of possible values the variable can take.\n",
    "\n",
    "The PDF is commonly used in statistics and probability theory to analyze and model real-world phenomena such as stock prices, weather patterns, and medical conditions.\n"
   ]
  },
  {
   "cell_type": "code",
   "execution_count": null,
   "id": "a5745b74-afd9-41db-9df4-f5dc3d08c95a",
   "metadata": {},
   "outputs": [],
   "source": [
    "##Q2.\n",
    "There are several types of probability distributions, but the most common ones are:\n",
    "\n",
    "Normal Distribution: Also known as Gaussian distribution, it is a bell-shaped symmetrical curve that represents the distribution of many natural phenomena such as height, weight, and IQ.\n",
    "\n",
    "Binomial Distribution: It is a discrete probability distribution that represents the number of successes in a fixed number of independent trials, where each trial has only two possible outcomes.\n",
    "\n",
    "Poisson Distribution: It is a discrete probability distribution that represents the number of times an event occurs in a fixed interval of time or space, given that the events occur independently and at a constant rate.\n",
    "\n",
    "Uniform Distribution: It is a continuous probability distribution where all outcomes in the sample space have an equal chance of occurring.\n",
    "\n",
    "Exponential Distribution: It is a continuous probability distribution that represents the time between two consecutive events in a Poisson process.\n",
    "\n",
    "Beta Distribution: It is a continuous probability distribution that represents the distribution of probabilities between 0 and 1, often used to model the success rate of a binary event.\n",
    "\n",
    "Gamma Distribution: It is a continuous probability distribution that represents the sum of n independent exponentially distributed random variables.\n",
    "\n",
    "These distributions have specific mathematical formulas that allow us to calculate probabilities and make predictions about the outcomes of random events.\n"
   ]
  },
  {
   "cell_type": "code",
   "execution_count": null,
   "id": "d5aeeb88-da55-4cb4-ac06-805e45343ea1",
   "metadata": {},
   "outputs": [],
   "source": [
    "##Q3.\n",
    "#Sure, here's an example Python function that calculates the probability density function (PDF) of a normal distribution at a given point, given the distribution's mean and standard deviation:\n",
    "\n",
    "import math\n",
    "\n",
    "def normal_pdf(x, mean, std_dev):\n",
    "    \"\"\"Calculate the PDF of a normal distribution at a given point.\"\"\"\n",
    "    exponent = -((x - mean) ** 2) / (2 * std_dev ** 2)\n",
    "    coefficient = 1 / (std_dev * math.sqrt(2 * math.pi))\n",
    "    return coefficient * math.exp(exponent)\n",
    "This function takes three arguments: x, the point at which to calculate the PDF, mean, the mean of the normal distribution, and std_dev, the standard deviation of the normal distribution.\n",
    "\n",
    "To use this function, simply call it with the desired values of x, mean, and std_dev. For example:\n",
    "\n",
    "pdf_at_2 = normal_pdf(2, 0, 1)\n",
    "print(pdf_at_2)"
   ]
  },
  {
   "cell_type": "code",
   "execution_count": null,
   "id": "421b9293-6693-435b-acc0-702562489669",
   "metadata": {},
   "outputs": [],
   "source": [
    "##Q4.\n",
    "The properties of the Binomial distribution are as follows:\n",
    "\n",
    "The binomial distribution represents the number of successes in a fixed number of independent trials, where each trial has only two possible outcomes (success or failure).\n",
    "The probability of success is constant for each trial.\n",
    "The trials are independent of each other.\n",
    "The probability of success and the probability of failure add up to 1.\n",
    "The distribution is discrete.\n",
    "Two examples of events where the binomial distribution can be applied are:\n",
    "\n",
    "Flipping a coin: If we flip a coin n times, the number of times we get heads (or tails) follows a binomial distribution with probability of success (getting heads) p=0.5.\n",
    "\n",
    "Quality control: In a factory, a sample of n items is taken from a production batch, and each item is inspected to see if it meets the required specifications. The number of items that pass inspection can be modeled using a binomial distribution with probability of success (meeting the specifications) p, and the total number of items n in the batch.\n",
    "\n",
    "In general, the binomial distribution can be applied to any event that consists of a fixed number of independent trials with only two possible outcomes, where the probability of success is constant for each trial.\n"
   ]
  },
  {
   "cell_type": "code",
   "execution_count": null,
   "id": "2338e041-d7f8-4517-9711-15e46130a6a1",
   "metadata": {},
   "outputs": [],
   "source": [
    "##Q5.\n",
    "Sure, here's an example Python code that generates a random sample of size 1000 from a binomial distribution with probability of success 0.4 and plots a histogram of the results using matplotlib:\n",
    "\n",
    "import numpy as np\n",
    "import matplotlib.pyplot as plt\n",
    "\n",
    "# Set the parameters of the binomial distribution\n",
    "n = 100    # Number of trials\n",
    "p = 0.4    # Probability of success\n",
    "\n",
    "# Generate a random sample of size 1000 from the binomial distribution\n",
    "sample = np.random.binomial(n, p, size=1000)\n",
    "\n",
    "# Plot a histogram of the sample using matplotlib\n",
    "plt.hist(sample, bins='auto')\n",
    "plt.xlabel('Number of Successes')\n",
    "plt.ylabel('Frequency')\n",
    "plt.title('Histogram of Binomial Distribution')\n",
    "plt.show()\n",
    "\n",
    "This code first sets the parameters of the binomial distribution (number of trials and probability of success), then generates a random sample of size 1000 from the binomial distribution using the NumPy random.binomial() function. Finally, it plots a histogram of the sample using the matplotlib.pyplot.hist() function.\n",
    "\n",
    "When you run this code, it will generate a histogram of the binomial distribution with 1000 trials and probability of success 0.4, showing the frequency of each possible number of successes in the sample.\n"
   ]
  },
  {
   "cell_type": "code",
   "execution_count": 3,
   "id": "b9e63751-f862-4d95-8d5c-b3ce52ee67ae",
   "metadata": {},
   "outputs": [],
   "source": [
    "##Q6.\n",
    "#Sure, here's an example Python function that calculates the cumulative distribution function (CDF) of a Poisson distribution at a given point, given the distribution's mean:\n",
    "\n",
    "import math\n",
    "\n",
    "def poisson_cdf(x, mean):\n",
    "    \"\"\"Calculate the CDF of a Poisson distribution at a given point.\"\"\"\n",
    "    cdf = 0\n",
    "    for i in range(x + 1):\n",
    "        cdf += (mean ** i) * math.exp(-mean) / math.factorial(i)\n",
    "    return cdf\n"
   ]
  },
  {
   "cell_type": "code",
   "execution_count": 4,
   "id": "8a6a40ef-7ef6-4e8e-b449-163eec76e4cb",
   "metadata": {},
   "outputs": [
    {
     "name": "stdout",
     "output_type": "stream",
     "text": [
      "0.42319008112684353\n"
     ]
    }
   ],
   "source": [
    "cdf_at_2 = poisson_cdf(2, 3)\n",
    "print(cdf_at_2)  "
   ]
  },
  {
   "cell_type": "code",
   "execution_count": null,
   "id": "377c6fe9-93c6-4c5c-8887-1074d50a6ccd",
   "metadata": {},
   "outputs": [],
   "source": [
    "##Q7.\n",
    "The Binomial distribution and Poisson distribution are both discrete probability distributions, but they differ in several ways.\n",
    "\n",
    "Definition: The Binomial distribution models the number of successes in a fixed number of independent trials, where each trial has only two possible outcomes (success or failure), and the probability of success is constant for each trial. The Poisson distribution, on the other hand, models the number of rare events occurring in a fixed interval of time or space.\n",
    "\n",
    "Assumptions: The Binomial distribution assumes that the trials are independent and identically distributed, while the Poisson distribution assumes that the events occur independently of each other, and the rate at which they occur is constant over time or space.\n",
    "\n",
    "Probability of success: In the Binomial distribution, the probability of success is constant for each trial, and denoted by p. In the Poisson distribution, the probability of an event occurring in a fixed interval of time or space is denoted by λ, which represents the average number of events per interval.\n",
    "\n",
    "Number of trials or events: The Binomial distribution models the number of successes in a fixed number of trials, denoted by n. The Poisson distribution models the number of rare events occurring in a fixed interval, but there is no fixed limit on the number of events that can occur.\n",
    "\n",
    "Shape: The Binomial distribution has a bell-shaped curve that approaches a normal distribution as the number of trials increases, while the Poisson distribution has a skewed shape that is often right-skewed.\n",
    "\n",
    "Relationship: The Poisson distribution is actually a limiting case of the Binomial distribution, where the number of trials is large and the probability of success is small, such that np = λ. As n increases and p decreases, the Binomial distribution approaches the Poisson distribution.\n",
    "\n",
    "In summary, the Binomial distribution models the number of successes in a fixed number of independent trials, while the Poisson distribution models the number of rare events occurring in a fixed interval of time or space. The Binomial distribution is based on the number of trials and the probability of success, while the Poisson distribution is based on the average rate of rare events.\n"
   ]
  },
  {
   "cell_type": "code",
   "execution_count": 5,
   "id": "478977f6-ec00-4385-8ae9-fbb98a7a10fc",
   "metadata": {},
   "outputs": [
    {
     "name": "stdout",
     "output_type": "stream",
     "text": [
      "Sample Mean: 4.989\n",
      "Sample Variance: 4.984879\n"
     ]
    }
   ],
   "source": [
    "##Q8.\n",
    "#Sure, here's an example Python code to generate a random sample of size 1000 from a Poisson distribution with mean 5, calculate the sample mean and variance:\n",
    "\n",
    "import numpy as np\n",
    "\n",
    "# Generate a random sample of size 1000 from Poisson distribution with mean 5\n",
    "sample = np.random.poisson(lam=5, size=1000)\n",
    "\n",
    "# Calculate the sample mean and variance\n",
    "sample_mean = np.mean(sample)\n",
    "sample_var = np.var(sample)\n",
    "\n",
    "print(\"Sample Mean:\", sample_mean)\n",
    "print(\"Sample Variance:\", sample_var)\n"
   ]
  },
  {
   "cell_type": "code",
   "execution_count": null,
   "id": "dd038039-a410-4ef3-9a2f-2f00645bf78c",
   "metadata": {},
   "outputs": [],
   "source": [
    "##Q9.\n",
    "In the Binomial distribution, the mean is given by μ = np, where n is the number of trials and p is the probability of success in each trial. The variance is given by σ^2 = np(1-p). So the mean and variance are related in the Binomial distribution by the formula σ^2 = μ(1 - p).\n",
    "\n",
    "In the Poisson distribution, the mean and variance are equal and are given by λ, which represents the average number of rare events occurring in a fixed interval of time or space. Therefore, the mean and variance are equal in the Poisson distribution, and there is no relationship between the mean and variance that is dependent on the value of λ.\n",
    "\n",
    "Both the Binomial and Poisson distributions are examples of discrete probability distributions, and the relationship between mean and variance is an important characteristic of these distributions. The relationship between mean and variance is often used to determine if a given distribution is a good fit for a particular dataset, and can also be used to make predictions about future outcomes based on past data.\n"
   ]
  },
  {
   "cell_type": "code",
   "execution_count": null,
   "id": "c5188ff5-6dc6-4056-9560-a6b45166e74e",
   "metadata": {},
   "outputs": [],
   "source": [
    "##Q10.\n",
    "In a normal distribution, the data is symmetrically distributed around the mean. The mean is also the point of highest frequency or peak in the distribution. Therefore, the least frequent data appears in the tails of the distribution, which are the areas on both sides of the mean that extend out to infinity.\n",
    "\n",
    "In a normal distribution, the tails of the distribution represent the rarest values, as they are the furthest away from the mean. The probability of observing values in the tails of a normal distribution decreases rapidly as the distance from the mean increases. Specifically, about 68% of the data lies within one standard deviation of the mean, about 95% of the data lies within two standard deviations of the mean, and about 99.7% of the data lies within three standard deviations of the mean. Therefore, the least frequent data appears in the tails of the normal distribution, which are the areas that are more than three standard deviations away from the mean.\n"
   ]
  }
 ],
 "metadata": {
  "kernelspec": {
   "display_name": "Python 3 (ipykernel)",
   "language": "python",
   "name": "python3"
  },
  "language_info": {
   "codemirror_mode": {
    "name": "ipython",
    "version": 3
   },
   "file_extension": ".py",
   "mimetype": "text/x-python",
   "name": "python",
   "nbconvert_exporter": "python",
   "pygments_lexer": "ipython3",
   "version": "3.10.8"
  }
 },
 "nbformat": 4,
 "nbformat_minor": 5
}
